{
 "cells": [
  {
   "cell_type": "code",
   "execution_count": 8,
   "metadata": {
    "gather": {
     "logged": 1615563199601
    }
   },
   "outputs": [
    {
     "data": {
      "text/plain": [
       "'C:\\\\Users\\\\z019157\\\\OneDrive - Alliance\\\\Public\\\\Datackthon'"
      ]
     },
     "execution_count": 8,
     "metadata": {},
     "output_type": "execute_result"
    }
   ],
   "source": [
    "import pandas as pd\n",
    "import numpy as np\n",
    "from pathlib import Path\n",
    "from sklearn.model_selection import train_test_split\n",
    "from sklearn.metrics import r2_score\n",
    "from sklearn.preprocessing import LabelEncoder\n",
    "from sklearn.metrics import mean_squared_error\n",
    "from sklearn.metrics import mean_absolute_error\n",
    "from sklearn.preprocessing import PolynomialFeatures\n",
    "from sklearn.ensemble import RandomForestRegressor\n",
    "from sklearn.preprocessing import MinMaxScaler\n",
    "from sklearn.preprocessing import MaxAbsScaler\n",
    "import os\n",
    "os.getcwd()"
   ]
  },
  {
   "cell_type": "code",
   "execution_count": 9,
   "metadata": {},
   "outputs": [],
   "source": [
    "# **Install imbalanced-learn For Data Ovesampling *"
   ]
  },
  {
   "cell_type": "code",
   "execution_count": 10,
   "metadata": {},
   "outputs": [
    {
     "name": "stdout",
     "output_type": "stream",
     "text": [
      "Requirement already satisfied: imbalanced-learn in c:\\users\\z019157\\appdata\\local\\programs\\python\\python39\\lib\\site-packages (0.8.0)\n",
      "Requirement already satisfied: numpy>=1.13.3 in c:\\users\\z019157\\appdata\\local\\programs\\python\\python39\\lib\\site-packages (from imbalanced-learn) (1.20.1)\n",
      "Requirement already satisfied: scikit-learn>=0.24 in c:\\users\\z019157\\appdata\\local\\programs\\python\\python39\\lib\\site-packages (from imbalanced-learn) (0.24.1)\n",
      "Requirement already satisfied: scipy>=0.19.1 in c:\\users\\z019157\\appdata\\local\\programs\\python\\python39\\lib\\site-packages (from imbalanced-learn) (1.6.1)\n",
      "Requirement already satisfied: joblib>=0.11 in c:\\users\\z019157\\appdata\\local\\programs\\python\\python39\\lib\\site-packages (from imbalanced-learn) (1.0.1)\n",
      "Requirement already satisfied: threadpoolctl>=2.0.0 in c:\\users\\z019157\\appdata\\local\\programs\\python\\python39\\lib\\site-packages (from scikit-learn>=0.24->imbalanced-learn) (2.1.0)\n",
      "0.8.0\n"
     ]
    }
   ],
   "source": [
    "!pip3 install imbalanced-learn\n",
    "import imblearn\n",
    "print(imblearn.__version__)"
   ]
  },
  {
   "cell_type": "code",
   "execution_count": 25,
   "metadata": {},
   "outputs": [],
   "source": [
    "from collections import Counter\n",
    "#from sklearn.datasets import make_classification\n",
    "#from imblearn.over_sampling import RandomOverSampler"
   ]
  },
  {
   "cell_type": "code",
   "execution_count": 12,
   "metadata": {
    "gather": {
     "logged": 1615563199849
    },
    "nteract": {
     "transient": {
      "deleting": false
     }
    },
    "tags": []
   },
   "outputs": [],
   "source": [
    "def compute_metrics(y,y_pred):\n",
    "  RMSE = mean_squared_error(y, y_pred, squared=False)\n",
    "  MAE = mean_absolute_error(y, y_pred)\n",
    "  R2 = r2_score(y,y_pred)\n",
    "  return RMSE, MAE, R2, \"RMSE: \"+str(round(RMSE,4))+\"   |   MAE: \"+str(round(MAE,4))+\"   |   R2: \"+str(round(R2,4))+\"  |   size: \"+str(len(y))"
   ]
  },
  {
   "cell_type": "code",
   "execution_count": 13,
   "metadata": {
    "gather": {
     "logged": 1615563200058
    },
    "tags": []
   },
   "outputs": [],
   "source": [
    "root_path = Path(\"C:\\\\Users\\\\z019157\\\\OneDrive - Alliance\\\\Public\\\\Datackthon\")\n",
    "training = root_path / \"train_dataset.csv\"\n",
    "Competitionf = root_path / \"competition_dataset.csv\"\n",
    "prediction = root_path / \"prediction_1.csv\"\n",
    "model = root_path / \"model.pkl\"\n",
    "encoderf = root_path / \"encoder.pkl\"\n",
    "scalar = root_path / \"scalar.pkl\"\n",
    "oversamp = root_path / \"oversampletrain.csv\""
   ]
  },
  {
   "cell_type": "code",
   "execution_count": 15,
   "metadata": {},
   "outputs": [],
   "source": [
    "# **PART 1: Read Training csv and drop the Low importence column from dataframe**"
   ]
  },
  {
   "cell_type": "code",
   "execution_count": 16,
   "metadata": {},
   "outputs": [
    {
     "data": {
      "text/plain": [
       "(89112, 16)"
      ]
     },
     "execution_count": 16,
     "metadata": {},
     "output_type": "execute_result"
    }
   ],
   "source": [
    "dfin = pd.read_csv(training, sep=\";\")\n",
    "dfin = dfin.drop(['JOBID', 'DAY', 'HOUR','NTNU' ,'MPLINK','TZC FINAL'], axis=1)\n",
    "dfin.shape"
   ]
  },
  {
   "cell_type": "code",
   "execution_count": 18,
   "metadata": {},
   "outputs": [],
   "source": [
    "# **PART 2: Dubligate rows removing using Groupby the columns andfilter the max 'ELAPSEDTIME' on the Group**"
   ]
  },
  {
   "cell_type": "code",
   "execution_count": 19,
   "metadata": {},
   "outputs": [
    {
     "data": {
      "text/html": [
       "<div>\n",
       "<style scoped>\n",
       "    .dataframe tbody tr th:only-of-type {\n",
       "        vertical-align: middle;\n",
       "    }\n",
       "\n",
       "    .dataframe tbody tr th {\n",
       "        vertical-align: top;\n",
       "    }\n",
       "\n",
       "    .dataframe thead th {\n",
       "        text-align: right;\n",
       "    }\n",
       "</style>\n",
       "<table border=\"1\" class=\"dataframe\">\n",
       "  <thead>\n",
       "    <tr style=\"text-align: right;\">\n",
       "      <th></th>\n",
       "      <th>VERSION</th>\n",
       "      <th>PERFORMANCE</th>\n",
       "      <th>PRECISION</th>\n",
       "      <th>MPLINK+NTNU</th>\n",
       "      <th>MBS</th>\n",
       "      <th>RUNEND</th>\n",
       "      <th>TIMESTEP</th>\n",
       "      <th>NBNODES</th>\n",
       "      <th>NBELEM1D</th>\n",
       "      <th>NBELEM2D</th>\n",
       "      <th>NBELEM3D</th>\n",
       "      <th>CLUSTER</th>\n",
       "      <th>NBSERVERS</th>\n",
       "      <th>NBCORE</th>\n",
       "      <th>DATACHECK_TIME</th>\n",
       "      <th>ELAPSEDTIME</th>\n",
       "    </tr>\n",
       "  </thead>\n",
       "  <tbody>\n",
       "    <tr>\n",
       "      <th>0</th>\n",
       "      <td>2012.7</td>\n",
       "      <td>ECE</td>\n",
       "      <td>1</td>\n",
       "      <td>NO</td>\n",
       "      <td>NO</td>\n",
       "      <td>40.01</td>\n",
       "      <td>0.0005</td>\n",
       "      <td>1618559</td>\n",
       "      <td>8878</td>\n",
       "      <td>1513126</td>\n",
       "      <td>175267</td>\n",
       "      <td>HPC1</td>\n",
       "      <td>2.0</td>\n",
       "      <td>48</td>\n",
       "      <td>79.0</td>\n",
       "      <td>7910</td>\n",
       "    </tr>\n",
       "    <tr>\n",
       "      <th>1</th>\n",
       "      <td>2012.7</td>\n",
       "      <td>ECE</td>\n",
       "      <td>1</td>\n",
       "      <td>NO</td>\n",
       "      <td>NO</td>\n",
       "      <td>40.01</td>\n",
       "      <td>0.0005</td>\n",
       "      <td>1618559</td>\n",
       "      <td>8878</td>\n",
       "      <td>1513126</td>\n",
       "      <td>175267</td>\n",
       "      <td>HPC1</td>\n",
       "      <td>2.0</td>\n",
       "      <td>48</td>\n",
       "      <td>79.5</td>\n",
       "      <td>7760</td>\n",
       "    </tr>\n",
       "    <tr>\n",
       "      <th>2</th>\n",
       "      <td>2012.7</td>\n",
       "      <td>ECE</td>\n",
       "      <td>1</td>\n",
       "      <td>NO</td>\n",
       "      <td>NO</td>\n",
       "      <td>40.01</td>\n",
       "      <td>0.0005</td>\n",
       "      <td>1618559</td>\n",
       "      <td>8878</td>\n",
       "      <td>1513126</td>\n",
       "      <td>175267</td>\n",
       "      <td>HPC1</td>\n",
       "      <td>2.0</td>\n",
       "      <td>48</td>\n",
       "      <td>79.6</td>\n",
       "      <td>7740</td>\n",
       "    </tr>\n",
       "    <tr>\n",
       "      <th>3</th>\n",
       "      <td>2012.7</td>\n",
       "      <td>ECE</td>\n",
       "      <td>1</td>\n",
       "      <td>NO</td>\n",
       "      <td>NO</td>\n",
       "      <td>50.01</td>\n",
       "      <td>0.0005</td>\n",
       "      <td>1618554</td>\n",
       "      <td>8880</td>\n",
       "      <td>1513120</td>\n",
       "      <td>175267</td>\n",
       "      <td>HPC1</td>\n",
       "      <td>2.0</td>\n",
       "      <td>48</td>\n",
       "      <td>79.1</td>\n",
       "      <td>10600</td>\n",
       "    </tr>\n",
       "    <tr>\n",
       "      <th>4</th>\n",
       "      <td>2012.7</td>\n",
       "      <td>ECE</td>\n",
       "      <td>1</td>\n",
       "      <td>NO</td>\n",
       "      <td>NO</td>\n",
       "      <td>60.01</td>\n",
       "      <td>0.0005</td>\n",
       "      <td>2131168</td>\n",
       "      <td>6777</td>\n",
       "      <td>1992043</td>\n",
       "      <td>409996</td>\n",
       "      <td>HPC1</td>\n",
       "      <td>2.0</td>\n",
       "      <td>48</td>\n",
       "      <td>57.5</td>\n",
       "      <td>8980</td>\n",
       "    </tr>\n",
       "  </tbody>\n",
       "</table>\n",
       "</div>"
      ],
      "text/plain": [
       "  VERSION PERFORMANCE  PRECISION MPLINK+NTNU MBS  RUNEND  TIMESTEP  NBNODES  \\\n",
       "0  2012.7         ECE          1          NO  NO   40.01    0.0005  1618559   \n",
       "1  2012.7         ECE          1          NO  NO   40.01    0.0005  1618559   \n",
       "2  2012.7         ECE          1          NO  NO   40.01    0.0005  1618559   \n",
       "3  2012.7         ECE          1          NO  NO   50.01    0.0005  1618554   \n",
       "4  2012.7         ECE          1          NO  NO   60.01    0.0005  2131168   \n",
       "\n",
       "   NBELEM1D  NBELEM2D  NBELEM3D CLUSTER  NBSERVERS  NBCORE  DATACHECK_TIME  \\\n",
       "0      8878   1513126    175267    HPC1        2.0      48            79.0   \n",
       "1      8878   1513126    175267    HPC1        2.0      48            79.5   \n",
       "2      8878   1513126    175267    HPC1        2.0      48            79.6   \n",
       "3      8880   1513120    175267    HPC1        2.0      48            79.1   \n",
       "4      6777   1992043    409996    HPC1        2.0      48            57.5   \n",
       "\n",
       "   ELAPSEDTIME  \n",
       "0         7910  \n",
       "1         7760  \n",
       "2         7740  \n",
       "3        10600  \n",
       "4         8980  "
      ]
     },
     "execution_count": 19,
     "metadata": {},
     "output_type": "execute_result"
    }
   ],
   "source": [
    "dfin = dfin.groupby(['VERSION','PERFORMANCE','PRECISION','MPLINK+NTNU','MBS','RUNEND','TIMESTEP','NBNODES','NBELEM1D','NBELEM2D','NBELEM3D','CLUSTER','NBSERVERS','NBCORE','DATACHECK_TIME'])['ELAPSEDTIME'].max().reset_index()\n",
    "dfin.head()"
   ]
  },
  {
   "cell_type": "code",
   "execution_count": 20,
   "metadata": {},
   "outputs": [
    {
     "data": {
      "text/plain": [
       "(67334, 16)"
      ]
     },
     "execution_count": 20,
     "metadata": {},
     "output_type": "execute_result"
    }
   ],
   "source": [
    "dfin.shape"
   ]
  },
  {
   "cell_type": "code",
   "execution_count": 21,
   "metadata": {},
   "outputs": [],
   "source": [
    "# **PART 3: categorical and Encoder**"
   ]
  },
  {
   "cell_type": "code",
   "execution_count": 22,
   "metadata": {
    "gather": {
     "logged": 1615563201142
    }
   },
   "outputs": [
    {
     "data": {
      "text/html": [
       "<div>\n",
       "<style scoped>\n",
       "    .dataframe tbody tr th:only-of-type {\n",
       "        vertical-align: middle;\n",
       "    }\n",
       "\n",
       "    .dataframe tbody tr th {\n",
       "        vertical-align: top;\n",
       "    }\n",
       "\n",
       "    .dataframe thead th {\n",
       "        text-align: right;\n",
       "    }\n",
       "</style>\n",
       "<table border=\"1\" class=\"dataframe\">\n",
       "  <thead>\n",
       "    <tr style=\"text-align: right;\">\n",
       "      <th></th>\n",
       "      <th>VERSION</th>\n",
       "      <th>PERFORMANCE</th>\n",
       "      <th>PRECISION</th>\n",
       "      <th>MPLINK+NTNU</th>\n",
       "      <th>MBS</th>\n",
       "      <th>RUNEND</th>\n",
       "      <th>NBNODES</th>\n",
       "      <th>NBELEM1D</th>\n",
       "      <th>NBELEM2D</th>\n",
       "      <th>NBELEM3D</th>\n",
       "      <th>CLUSTER</th>\n",
       "      <th>NBSERVERS</th>\n",
       "      <th>NBCORE</th>\n",
       "      <th>DATACHECK_TIME</th>\n",
       "      <th>ELAPSEDTIME</th>\n",
       "    </tr>\n",
       "  </thead>\n",
       "  <tbody>\n",
       "    <tr>\n",
       "      <th>0</th>\n",
       "      <td>0</td>\n",
       "      <td>1</td>\n",
       "      <td>1</td>\n",
       "      <td>0</td>\n",
       "      <td>0</td>\n",
       "      <td>80020</td>\n",
       "      <td>1618559</td>\n",
       "      <td>8878</td>\n",
       "      <td>1513126</td>\n",
       "      <td>175267</td>\n",
       "      <td>0</td>\n",
       "      <td>2</td>\n",
       "      <td>48</td>\n",
       "      <td>79</td>\n",
       "      <td>7910</td>\n",
       "    </tr>\n",
       "    <tr>\n",
       "      <th>1</th>\n",
       "      <td>0</td>\n",
       "      <td>1</td>\n",
       "      <td>1</td>\n",
       "      <td>0</td>\n",
       "      <td>0</td>\n",
       "      <td>80020</td>\n",
       "      <td>1618559</td>\n",
       "      <td>8878</td>\n",
       "      <td>1513126</td>\n",
       "      <td>175267</td>\n",
       "      <td>0</td>\n",
       "      <td>2</td>\n",
       "      <td>48</td>\n",
       "      <td>80</td>\n",
       "      <td>7760</td>\n",
       "    </tr>\n",
       "    <tr>\n",
       "      <th>2</th>\n",
       "      <td>0</td>\n",
       "      <td>1</td>\n",
       "      <td>1</td>\n",
       "      <td>0</td>\n",
       "      <td>0</td>\n",
       "      <td>80020</td>\n",
       "      <td>1618559</td>\n",
       "      <td>8878</td>\n",
       "      <td>1513126</td>\n",
       "      <td>175267</td>\n",
       "      <td>0</td>\n",
       "      <td>2</td>\n",
       "      <td>48</td>\n",
       "      <td>80</td>\n",
       "      <td>7740</td>\n",
       "    </tr>\n",
       "    <tr>\n",
       "      <th>3</th>\n",
       "      <td>0</td>\n",
       "      <td>1</td>\n",
       "      <td>1</td>\n",
       "      <td>0</td>\n",
       "      <td>0</td>\n",
       "      <td>100020</td>\n",
       "      <td>1618554</td>\n",
       "      <td>8880</td>\n",
       "      <td>1513120</td>\n",
       "      <td>175267</td>\n",
       "      <td>0</td>\n",
       "      <td>2</td>\n",
       "      <td>48</td>\n",
       "      <td>80</td>\n",
       "      <td>10600</td>\n",
       "    </tr>\n",
       "    <tr>\n",
       "      <th>4</th>\n",
       "      <td>0</td>\n",
       "      <td>1</td>\n",
       "      <td>1</td>\n",
       "      <td>0</td>\n",
       "      <td>0</td>\n",
       "      <td>120020</td>\n",
       "      <td>2131168</td>\n",
       "      <td>6777</td>\n",
       "      <td>1992043</td>\n",
       "      <td>409996</td>\n",
       "      <td>0</td>\n",
       "      <td>2</td>\n",
       "      <td>48</td>\n",
       "      <td>58</td>\n",
       "      <td>8980</td>\n",
       "    </tr>\n",
       "  </tbody>\n",
       "</table>\n",
       "</div>"
      ],
      "text/plain": [
       "   VERSION  PERFORMANCE  PRECISION  MPLINK+NTNU  MBS  RUNEND  NBNODES  \\\n",
       "0        0            1          1            0    0   80020  1618559   \n",
       "1        0            1          1            0    0   80020  1618559   \n",
       "2        0            1          1            0    0   80020  1618559   \n",
       "3        0            1          1            0    0  100020  1618554   \n",
       "4        0            1          1            0    0  120020  2131168   \n",
       "\n",
       "   NBELEM1D  NBELEM2D  NBELEM3D  CLUSTER  NBSERVERS  NBCORE  DATACHECK_TIME  \\\n",
       "0      8878   1513126    175267        0          2      48              79   \n",
       "1      8878   1513126    175267        0          2      48              80   \n",
       "2      8878   1513126    175267        0          2      48              80   \n",
       "3      8880   1513120    175267        0          2      48              80   \n",
       "4      6777   1992043    409996        0          2      48              58   \n",
       "\n",
       "   ELAPSEDTIME  \n",
       "0         7910  \n",
       "1         7760  \n",
       "2         7740  \n",
       "3        10600  \n",
       "4         8980  "
      ]
     },
     "execution_count": 22,
     "metadata": {},
     "output_type": "execute_result"
    }
   ],
   "source": [
    "dfin = dfin.astype({\"NBSERVERS\": int})\n",
    "dfin['RUNEND'] = np.ceil(dfin['RUNEND']/dfin['TIMESTEP']).astype(int)\n",
    "dfin = dfin.drop([\"TIMESTEP\"], axis=1)\n",
    "#dfin['DATACHECK_TIME'] = np.log10(dfin['DATACHECK_TIME'])\n",
    "dfin['DATACHECK_TIME']=np.ceil(dfin['DATACHECK_TIME']).astype(int)\n",
    "numerical = list(dfin.describe().columns)\n",
    "categorical = [col for col in dfin.columns if col not in numerical]\n",
    "encoders = {}\n",
    "for column in categorical:\n",
    "  encoder = LabelEncoder().fit(dfin[column])\n",
    "  dfin[column] = encoder.transform(dfin[column])\n",
    "  encoders[column]=encoder\n",
    "dfin.head()"
   ]
  },
  {
   "cell_type": "code",
   "execution_count": 23,
   "metadata": {},
   "outputs": [],
   "source": [
    "# **PART 4: Oversampling the 'CLUSTER' column using ADASYN**"
   ]
  },
  {
   "cell_type": "code",
   "execution_count": 26,
   "metadata": {},
   "outputs": [
    {
     "name": "stdout",
     "output_type": "stream",
     "text": [
      "Counter({0: 41431, 2: 25897, 1: 6})\n"
     ]
    }
   ],
   "source": [
    "print(Counter(dfin['CLUSTER']))"
   ]
  },
  {
   "cell_type": "code",
   "execution_count": 27,
   "metadata": {},
   "outputs": [
    {
     "data": {
      "image/png": "[encoded data removed]",
      "text/plain": [
       "<Figure size 432x288 with 1 Axes>"
      ]
     },
     "metadata": {
      "needs_background": "light"
     },
     "output_type": "display_data"
    }
   ],
   "source": [
    "dfinOver = dfin\n",
    "y = dfinOver[\"CLUSTER\"]\n",
    "X = dfinOver\n",
    "dfinOver['CLUSTER'].value_counts().plot(kind='bar', title='Count (CLUSTER)');"
   ]
  },
  {
   "cell_type": "code",
   "execution_count": 28,
   "metadata": {},
   "outputs": [],
   "source": [
    "from imblearn.over_sampling import ADASYN\n",
    "\n",
    "# create the object to resample the majority class.\n",
    "adasyn = ADASYN(sampling_strategy=\"auto\",random_state=0)\n",
    "\n",
    "# fit the object to the training data.\n",
    "x_adasyn, y_adasyn = adasyn.fit_resample(X, y)\n",
    "x_adasyn.to_csv('Train_adasyn.01.csv', index=False, sep=\";\")"
   ]
  },
  {
   "cell_type": "code",
   "execution_count": 29,
   "metadata": {},
   "outputs": [
    {
     "data": {
      "text/html": [
       "<div>\n",
       "<style scoped>\n",
       "    .dataframe tbody tr th:only-of-type {\n",
       "        vertical-align: middle;\n",
       "    }\n",
       "\n",
       "    .dataframe tbody tr th {\n",
       "        vertical-align: top;\n",
       "    }\n",
       "\n",
       "    .dataframe thead th {\n",
       "        text-align: right;\n",
       "    }\n",
       "</style>\n",
       "<table border=\"1\" class=\"dataframe\">\n",
       "  <thead>\n",
       "    <tr style=\"text-align: right;\">\n",
       "      <th></th>\n",
       "      <th>VERSION</th>\n",
       "      <th>PERFORMANCE</th>\n",
       "      <th>PRECISION</th>\n",
       "      <th>MPLINK+NTNU</th>\n",
       "      <th>MBS</th>\n",
       "      <th>RUNEND</th>\n",
       "      <th>NBNODES</th>\n",
       "      <th>NBELEM1D</th>\n",
       "      <th>NBELEM2D</th>\n",
       "      <th>NBELEM3D</th>\n",
       "      <th>CLUSTER</th>\n",
       "      <th>NBSERVERS</th>\n",
       "      <th>NBCORE</th>\n",
       "      <th>DATACHECK_TIME</th>\n",
       "      <th>ELAPSEDTIME</th>\n",
       "    </tr>\n",
       "  </thead>\n",
       "  <tbody>\n",
       "    <tr>\n",
       "      <th>0</th>\n",
       "      <td>0</td>\n",
       "      <td>1</td>\n",
       "      <td>1</td>\n",
       "      <td>0</td>\n",
       "      <td>0</td>\n",
       "      <td>80020</td>\n",
       "      <td>1618559</td>\n",
       "      <td>8878</td>\n",
       "      <td>1513126</td>\n",
       "      <td>175267</td>\n",
       "      <td>0</td>\n",
       "      <td>2</td>\n",
       "      <td>48</td>\n",
       "      <td>79</td>\n",
       "      <td>7910</td>\n",
       "    </tr>\n",
       "    <tr>\n",
       "      <th>1</th>\n",
       "      <td>0</td>\n",
       "      <td>1</td>\n",
       "      <td>1</td>\n",
       "      <td>0</td>\n",
       "      <td>0</td>\n",
       "      <td>80020</td>\n",
       "      <td>1618559</td>\n",
       "      <td>8878</td>\n",
       "      <td>1513126</td>\n",
       "      <td>175267</td>\n",
       "      <td>0</td>\n",
       "      <td>2</td>\n",
       "      <td>48</td>\n",
       "      <td>80</td>\n",
       "      <td>7760</td>\n",
       "    </tr>\n",
       "    <tr>\n",
       "      <th>2</th>\n",
       "      <td>0</td>\n",
       "      <td>1</td>\n",
       "      <td>1</td>\n",
       "      <td>0</td>\n",
       "      <td>0</td>\n",
       "      <td>80020</td>\n",
       "      <td>1618559</td>\n",
       "      <td>8878</td>\n",
       "      <td>1513126</td>\n",
       "      <td>175267</td>\n",
       "      <td>0</td>\n",
       "      <td>2</td>\n",
       "      <td>48</td>\n",
       "      <td>80</td>\n",
       "      <td>7740</td>\n",
       "    </tr>\n",
       "    <tr>\n",
       "      <th>3</th>\n",
       "      <td>0</td>\n",
       "      <td>1</td>\n",
       "      <td>1</td>\n",
       "      <td>0</td>\n",
       "      <td>0</td>\n",
       "      <td>100020</td>\n",
       "      <td>1618554</td>\n",
       "      <td>8880</td>\n",
       "      <td>1513120</td>\n",
       "      <td>175267</td>\n",
       "      <td>0</td>\n",
       "      <td>2</td>\n",
       "      <td>48</td>\n",
       "      <td>80</td>\n",
       "      <td>10600</td>\n",
       "    </tr>\n",
       "    <tr>\n",
       "      <th>4</th>\n",
       "      <td>0</td>\n",
       "      <td>1</td>\n",
       "      <td>1</td>\n",
       "      <td>0</td>\n",
       "      <td>0</td>\n",
       "      <td>120020</td>\n",
       "      <td>2131168</td>\n",
       "      <td>6777</td>\n",
       "      <td>1992043</td>\n",
       "      <td>409996</td>\n",
       "      <td>0</td>\n",
       "      <td>2</td>\n",
       "      <td>48</td>\n",
       "      <td>58</td>\n",
       "      <td>8980</td>\n",
       "    </tr>\n",
       "  </tbody>\n",
       "</table>\n",
       "</div>"
      ],
      "text/plain": [
       "   VERSION  PERFORMANCE  PRECISION  MPLINK+NTNU  MBS  RUNEND  NBNODES  \\\n",
       "0        0            1          1            0    0   80020  1618559   \n",
       "1        0            1          1            0    0   80020  1618559   \n",
       "2        0            1          1            0    0   80020  1618559   \n",
       "3        0            1          1            0    0  100020  1618554   \n",
       "4        0            1          1            0    0  120020  2131168   \n",
       "\n",
       "   NBELEM1D  NBELEM2D  NBELEM3D  CLUSTER  NBSERVERS  NBCORE  DATACHECK_TIME  \\\n",
       "0      8878   1513126    175267        0          2      48              79   \n",
       "1      8878   1513126    175267        0          2      48              80   \n",
       "2      8878   1513126    175267        0          2      48              80   \n",
       "3      8880   1513120    175267        0          2      48              80   \n",
       "4      6777   1992043    409996        0          2      48              58   \n",
       "\n",
       "   ELAPSEDTIME  \n",
       "0         7910  \n",
       "1         7760  \n",
       "2         7740  \n",
       "3        10600  \n",
       "4         8980  "
      ]
     },
     "execution_count": 29,
     "metadata": {},
     "output_type": "execute_result"
    }
   ],
   "source": [
    "x_adasyn.head()"
   ]
  },
  {
   "cell_type": "code",
   "execution_count": 30,
   "metadata": {},
   "outputs": [
    {
     "data": {
      "image/png": "[encoded data removed]",
      "text/plain": [
       "<Figure size 432x288 with 1 Axes>"
      ]
     },
     "metadata": {
      "needs_background": "light"
     },
     "output_type": "display_data"
    }
   ],
   "source": [
    "x_adasyn['CLUSTER'].value_counts().plot(kind='bar', title='Count (CLUSTER)');"
   ]
  },
  {
   "cell_type": "code",
   "execution_count": 31,
   "metadata": {},
   "outputs": [
    {
     "data": {
      "text/plain": [
       "(124279, 15)"
      ]
     },
     "execution_count": 31,
     "metadata": {},
     "output_type": "execute_result"
    }
   ],
   "source": [
    "dfin = x_adasyn\n",
    "dfin.shape"
   ]
  },
  {
   "cell_type": "code",
   "execution_count": 32,
   "metadata": {},
   "outputs": [
    {
     "name": "stdout",
     "output_type": "stream",
     "text": [
      "Counter({1: 41432, 0: 41431, 2: 41416})\n"
     ]
    }
   ],
   "source": [
    "print(Counter(dfin['CLUSTER']))"
   ]
  },
  {
   "cell_type": "code",
   "execution_count": null,
   "metadata": {},
   "outputs": [],
   "source": [
    "#for column in dfin.columns:\n",
    "#    dfin.plot(x=column, y=\"ELAPSEDTIME\", kind=\"scatter\")"
   ]
  },
  {
   "cell_type": "code",
   "execution_count": 33,
   "metadata": {},
   "outputs": [],
   "source": [
    "# **PART 5: Apply Scaler 'MinMaxScaler' and PolynomialFeatures to transform the features**"
   ]
  },
  {
   "cell_type": "code",
   "execution_count": 34,
   "metadata": {
    "gather": {
     "logged": 1615563201612
    }
   },
   "outputs": [],
   "source": [
    "y = dfin[\"ELAPSEDTIME\"]\n",
    "X = dfin.drop([\"ELAPSEDTIME\"], axis=1)\n",
    "scaler = MinMaxScaler()\n",
    "X_scaled = pd.DataFrame(data = scaler.fit_transform(X), columns = X.columns)\n",
    "poly = PolynomialFeatures(degree=3)\n",
    "X_pol =  poly.fit_transform(X_scaled)\n",
    "X_train_sc, X_test_sc, _, _ = train_test_split(X_pol, y, test_size=0.15, random_state=100)\n",
    "X_train, X_test, y_train, y_test = train_test_split(X, y, test_size=0.15, random_state=100)"
   ]
  },
  {
   "cell_type": "code",
   "execution_count": 35,
   "metadata": {},
   "outputs": [],
   "source": [
    "# **PART 6: RandomForestRegressor Train with whole dataframe**"
   ]
  },
  {
   "cell_type": "code",
   "execution_count": null,
   "metadata": {
    "collapsed": false,
    "gather": {
     "logged": 1615563284320
    },
    "jupyter": {
     "outputs_hidden": false
    }
   },
   "outputs": [
    {
     "name": "stderr",
     "output_type": "stream",
     "text": [
      "[Parallel(n_jobs=15)]: Using backend ThreadingBackend with 15 concurrent workers.\n",
      "[Parallel(n_jobs=15)]: Done  20 tasks      | elapsed:   47.7s\n",
      "[Parallel(n_jobs=15)]: Done 170 tasks      | elapsed:  5.8min\n"
     ]
    }
   ],
   "source": [
    "#rfrpol = RandomForestRegressor(n_estimators=800, random_state=100, min_samples_split=5, min_samples_leaf=1,max_features='sqrt', max_depth=20, bootstrap=True, n_jobs=14, verbose=3).fit(X_pol, y)\n",
    "rfrpol = RandomForestRegressor(n_estimators=900, random_state=100, min_samples_split=4, min_samples_leaf=1,max_features=0.04, max_depth=30, bootstrap=True, n_jobs=15, verbose=1)\n",
    "rfrpol.fit(X_pol, y)"
   ]
  },
  {
   "cell_type": "code",
   "execution_count": null,
   "metadata": {},
   "outputs": [],
   "source": [
    "# **Prediction With Competition Data"
   ]
  },
  {
   "cell_type": "code",
   "execution_count": null,
   "metadata": {
    "gather": {
     "logged": 1615563284509
    }
   },
   "outputs": [],
   "source": [
    "dfout = pd.read_csv(Competitionf, sep=\";\")\n",
    "dfcomp = dfout.drop([\"JOBID\", \"DAY\", \"HOUR\",'NTNU' ,'MPLINK'], axis=1)\n",
    "dfcomp = dfcomp.astype({\"NBSERVERS\": int})\n",
    "dfcomp['RUNEND'] = np.ceil(dfcomp['RUNEND']/dfcomp['TIMESTEP']).astype(int)\n",
    "dfcomp = dfcomp.drop([\"TIMESTEP\"], axis=1)\n",
    "\n",
    "#dfcomp['RUNEND'] = np.log10(dfcomp['RUNEND'])\n",
    "#dfcomp['DATACHECK_TIME'] = np.log10(dfcomp['DATACHECK_TIME'])\n",
    "dfcomp['DATACHECK_TIME']=np.ceil(dfcomp['DATACHECK_TIME']).astype(int)\n",
    "numerical = list(dfcomp.describe().columns)\n",
    "categorical = [col for col in dfcomp.columns if col not in numerical]\n",
    "for column in categorical:\n",
    "    dfcomp[column] = encoders[column].transform(dfcomp[column])\n",
    "Xout_scaled = pd.DataFrame(data = scaler.transform(dfcomp), columns = X.columns)\n",
    "Xout_pol =  poly.fit_transform(Xout_scaled)"
   ]
  },
  {
   "cell_type": "code",
   "execution_count": 66,
   "metadata": {
    "gather": {
     "logged": 1615563284959
    }
   },
   "outputs": [
    {
     "name": "stderr",
     "output_type": "stream",
     "text": [
      "[Parallel(n_jobs=15)]: Using backend ThreadingBackend with 15 concurrent workers.\n",
      "[Parallel(n_jobs=15)]: Done  20 tasks      | elapsed:    0.0s\n",
      "[Parallel(n_jobs=15)]: Done 170 tasks      | elapsed:    0.2s\n",
      "[Parallel(n_jobs=15)]: Done 420 tasks      | elapsed:    0.6s\n",
      "[Parallel(n_jobs=15)]: Done 770 tasks      | elapsed:    1.1s\n",
      "[Parallel(n_jobs=15)]: Done 900 out of 900 | elapsed:    1.3s finished\n"
     ]
    },
    {
     "data": {
      "text/html": [
       "<div>\n",
       "<style scoped>\n",
       "    .dataframe tbody tr th:only-of-type {\n",
       "        vertical-align: middle;\n",
       "    }\n",
       "\n",
       "    .dataframe tbody tr th {\n",
       "        vertical-align: top;\n",
       "    }\n",
       "\n",
       "    .dataframe thead th {\n",
       "        text-align: right;\n",
       "    }\n",
       "</style>\n",
       "<table border=\"1\" class=\"dataframe\">\n",
       "  <thead>\n",
       "    <tr style=\"text-align: right;\">\n",
       "      <th></th>\n",
       "      <th>JOBID</th>\n",
       "      <th>PREDICTION</th>\n",
       "    </tr>\n",
       "  </thead>\n",
       "  <tbody>\n",
       "    <tr>\n",
       "      <th>0</th>\n",
       "      <td>4932</td>\n",
       "      <td>17953</td>\n",
       "    </tr>\n",
       "    <tr>\n",
       "      <th>1</th>\n",
       "      <td>4930</td>\n",
       "      <td>27566</td>\n",
       "    </tr>\n",
       "    <tr>\n",
       "      <th>2</th>\n",
       "      <td>5196</td>\n",
       "      <td>14544</td>\n",
       "    </tr>\n",
       "    <tr>\n",
       "      <th>3</th>\n",
       "      <td>5424</td>\n",
       "      <td>10918</td>\n",
       "    </tr>\n",
       "    <tr>\n",
       "      <th>4</th>\n",
       "      <td>5202</td>\n",
       "      <td>14853</td>\n",
       "    </tr>\n",
       "  </tbody>\n",
       "</table>\n",
       "</div>"
      ],
      "text/plain": [
       "   JOBID  PREDICTION\n",
       "0   4932       17953\n",
       "1   4930       27566\n",
       "2   5196       14544\n",
       "3   5424       10918\n",
       "4   5202       14853"
      ]
     },
     "execution_count": 66,
     "metadata": {},
     "output_type": "execute_result"
    }
   ],
   "source": [
    "dfcomp[\"prediction\"] = rfrpol.predict(Xout_pol)\n",
    "pred = pd.DataFrame(data=dfout[\"JOBID\"], columns=[\"JOBID\"])\n",
    "pred[\"PREDICTION\"] = np.ceil(dfcomp[\"prediction\"]).astype(int)\n",
    "pred.to_csv(prediction, index=False, sep=\";\")\n",
    "pred.head()"
   ]
  }
 ],
 "metadata": {
  "kernel_info": {
   "name": "python3"
  },
  "kernelspec": {
   "display_name": "Python 3",
   "language": "python",
   "name": "python3"
  },
  "language_info": {
   "codemirror_mode": {
    "name": "ipython",
    "version": 3
   },
   "file_extension": ".py",
   "mimetype": "text/x-python",
   "name": "python",
   "nbconvert_exporter": "python",
   "pygments_lexer": "ipython3",
   "version": "3.9.2"
  },
  "nteract": {
   "version": "nteract-front-end@1.0.0"
  }
 },
 "nbformat": 4,
 "nbformat_minor": 4
}
